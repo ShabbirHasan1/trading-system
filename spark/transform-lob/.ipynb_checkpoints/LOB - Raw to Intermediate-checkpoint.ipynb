{
 "cells": [
  {
   "cell_type": "code",
   "execution_count": 1,
   "metadata": {},
   "outputs": [],
   "source": [
    "import findspark\n",
    "findspark.init()\n",
    "\n",
    "import pyspark\n",
    "from pyspark.sql import SparkSession\n",
    "from pyspark.sql import functions as func\n",
    "from pyspark.sql.window import Window\n",
    "from pyspark.sql.functions import array, col, explode, lit, struct, split, mean, stddev, lead, lag, concat, year, month, dayofmonth\n",
    "from pyspark.sql import DataFrame\n",
    "from typing import Iterable \n",
    "from pyspark.sql.types import IntegerType, FloatType\n",
    "from pyspark.sql.functions import broadcast\n",
    "from pyspark.sql.functions import udf\n",
    "\n",
    "from datetime import datetime\n",
    "\n",
    "spark = SparkSession.builder.config(\"spark.driver.memory\", \"16g\")\\\n",
    "                            .config(\"spark.driver.maxResultSize\", \"1g\")\\\n",
    "                            .getOrCreate()\n",
    "\n",
    "from util import *\n",
    "import pandas as pd\n",
    "pd.set_option('max_columns', 999)"
   ]
  },
  {
   "cell_type": "code",
   "execution_count": 13,
   "metadata": {},
   "outputs": [
    {
     "data": {
      "text/plain": [
       "'\\nTakes orderbook csvs (from Raw layer) and creates features such as midprice, imbalance etc.\\n'"
      ]
     },
     "execution_count": 13,
     "metadata": {},
     "output_type": "execute_result"
    }
   ],
   "source": [
    "\"\"\"\n",
    "Takes orderbook csvs (from Raw layer) and creates features such as midprice, imbalance etc.\n",
    "\"\"\""
   ]
  },
  {
   "cell_type": "code",
   "execution_count": 2,
   "metadata": {},
   "outputs": [],
   "source": [
    "exchange = 'FTX'"
   ]
  },
  {
   "cell_type": "code",
   "execution_count": 3,
   "metadata": {},
   "outputs": [],
   "source": [
    "df = spark.read.format('com.databricks.spark.csv').options(header='true', inferschema='true') \\\n",
    "    .load(f'data/01_raw/lob/{exchange}/BTC-PERP/2019/*/*')\n",
    "# df = spark.read.format('com.databricks.spark.csv').options(header='true', inferschema='true') \\\n",
    "#     .load(f'data/01_raw/lob/{exchange}/BTCUSDT/2019/*/*')"
   ]
  },
  {
   "cell_type": "code",
   "execution_count": null,
   "metadata": {},
   "outputs": [],
   "source": []
  },
  {
   "cell_type": "code",
   "execution_count": 4,
   "metadata": {},
   "outputs": [],
   "source": [
    "# Strip weird characters from columns\n",
    "for col in df.columns:\n",
    "    df = df.withColumnRenamed(col, col.replace('.', '').replace(']', '').replace('[', ''))"
   ]
  },
  {
   "cell_type": "code",
   "execution_count": 5,
   "metadata": {},
   "outputs": [
    {
     "data": {
      "text/html": [
       "<div>\n",
       "<style scoped>\n",
       "    .dataframe tbody tr th:only-of-type {\n",
       "        vertical-align: middle;\n",
       "    }\n",
       "\n",
       "    .dataframe tbody tr th {\n",
       "        vertical-align: top;\n",
       "    }\n",
       "\n",
       "    .dataframe thead th {\n",
       "        text-align: right;\n",
       "    }\n",
       "</style>\n",
       "<table border=\"1\" class=\"dataframe\">\n",
       "  <thead>\n",
       "    <tr style=\"text-align: right;\">\n",
       "      <th></th>\n",
       "      <th>symbol</th>\n",
       "      <th>timestamp</th>\n",
       "      <th>asks0price</th>\n",
       "      <th>asks0amount</th>\n",
       "      <th>asks1price</th>\n",
       "      <th>asks1amount</th>\n",
       "      <th>asks2price</th>\n",
       "      <th>asks2amount</th>\n",
       "      <th>asks3price</th>\n",
       "      <th>asks3amount</th>\n",
       "      <th>asks4price</th>\n",
       "      <th>asks4amount</th>\n",
       "      <th>asks5price</th>\n",
       "      <th>asks5amount</th>\n",
       "      <th>asks6price</th>\n",
       "      <th>asks6amount</th>\n",
       "      <th>asks7price</th>\n",
       "      <th>asks7amount</th>\n",
       "      <th>asks8price</th>\n",
       "      <th>asks8amount</th>\n",
       "      <th>asks9price</th>\n",
       "      <th>asks9amount</th>\n",
       "      <th>bids0price</th>\n",
       "      <th>bids0amount</th>\n",
       "      <th>bids1price</th>\n",
       "      <th>bids1amount</th>\n",
       "      <th>bids2price</th>\n",
       "      <th>bids2amount</th>\n",
       "      <th>bids3price</th>\n",
       "      <th>bids3amount</th>\n",
       "      <th>bids4price</th>\n",
       "      <th>bids4amount</th>\n",
       "      <th>bids5price</th>\n",
       "      <th>bids5amount</th>\n",
       "      <th>bids6price</th>\n",
       "      <th>bids6amount</th>\n",
       "      <th>bids7price</th>\n",
       "      <th>bids7amount</th>\n",
       "      <th>bids8price</th>\n",
       "      <th>bids8amount</th>\n",
       "      <th>bids9price</th>\n",
       "      <th>bids9amount</th>\n",
       "    </tr>\n",
       "  </thead>\n",
       "  <tbody>\n",
       "    <tr>\n",
       "      <th>0</th>\n",
       "      <td>BTC-PERP</td>\n",
       "      <td>2019-11-01 11:00:02.001</td>\n",
       "      <td>9160.0</td>\n",
       "      <td>99.8237</td>\n",
       "      <td>9160.25</td>\n",
       "      <td>160.8332</td>\n",
       "      <td>9167.0</td>\n",
       "      <td>128.352</td>\n",
       "      <td>9168.25</td>\n",
       "      <td>84.717</td>\n",
       "      <td>9175.75</td>\n",
       "      <td>82.4863</td>\n",
       "      <td>9176.5</td>\n",
       "      <td>92.5407</td>\n",
       "      <td>9178.0</td>\n",
       "      <td>7.5576</td>\n",
       "      <td>9187.25</td>\n",
       "      <td>8.7736</td>\n",
       "      <td>9190.0</td>\n",
       "      <td>82.7471</td>\n",
       "      <td>9196.25</td>\n",
       "      <td>8.2636</td>\n",
       "      <td>9157.75</td>\n",
       "      <td>148.268</td>\n",
       "      <td>9156.5</td>\n",
       "      <td>182.1977</td>\n",
       "      <td>9150.0</td>\n",
       "      <td>45.9974</td>\n",
       "      <td>9142.25</td>\n",
       "      <td>63.9962</td>\n",
       "      <td>9134.5</td>\n",
       "      <td>83.8423</td>\n",
       "      <td>9134.0</td>\n",
       "      <td>56.2644</td>\n",
       "      <td>9123.5</td>\n",
       "      <td>8.4158</td>\n",
       "      <td>9122.75</td>\n",
       "      <td>54.9485</td>\n",
       "      <td>9116.5</td>\n",
       "      <td>8.4933</td>\n",
       "      <td>9116.0</td>\n",
       "      <td>65.2164</td>\n",
       "    </tr>\n",
       "    <tr>\n",
       "      <th>1</th>\n",
       "      <td>BTC-PERP</td>\n",
       "      <td>2019-11-01 11:00:02.378</td>\n",
       "      <td>9160.0</td>\n",
       "      <td>99.8237</td>\n",
       "      <td>9160.25</td>\n",
       "      <td>160.8332</td>\n",
       "      <td>9167.0</td>\n",
       "      <td>128.352</td>\n",
       "      <td>9168.25</td>\n",
       "      <td>84.717</td>\n",
       "      <td>9175.75</td>\n",
       "      <td>82.4863</td>\n",
       "      <td>9176.5</td>\n",
       "      <td>92.5407</td>\n",
       "      <td>9178.0</td>\n",
       "      <td>7.5576</td>\n",
       "      <td>9187.25</td>\n",
       "      <td>8.7736</td>\n",
       "      <td>9190.0</td>\n",
       "      <td>82.7471</td>\n",
       "      <td>9196.25</td>\n",
       "      <td>8.2636</td>\n",
       "      <td>9157.75</td>\n",
       "      <td>149.568</td>\n",
       "      <td>9156.5</td>\n",
       "      <td>182.1977</td>\n",
       "      <td>9150.0</td>\n",
       "      <td>45.9974</td>\n",
       "      <td>9142.25</td>\n",
       "      <td>63.9962</td>\n",
       "      <td>9134.5</td>\n",
       "      <td>83.8423</td>\n",
       "      <td>9134.0</td>\n",
       "      <td>56.2644</td>\n",
       "      <td>9123.5</td>\n",
       "      <td>8.4158</td>\n",
       "      <td>9122.75</td>\n",
       "      <td>54.9485</td>\n",
       "      <td>9116.5</td>\n",
       "      <td>8.4933</td>\n",
       "      <td>9116.0</td>\n",
       "      <td>65.2164</td>\n",
       "    </tr>\n",
       "  </tbody>\n",
       "</table>\n",
       "</div>"
      ],
      "text/plain": [
       "     symbol               timestamp  asks0price  asks0amount  asks1price  \\\n",
       "0  BTC-PERP 2019-11-01 11:00:02.001      9160.0      99.8237     9160.25   \n",
       "1  BTC-PERP 2019-11-01 11:00:02.378      9160.0      99.8237     9160.25   \n",
       "\n",
       "   asks1amount  asks2price  asks2amount  asks3price  asks3amount  asks4price  \\\n",
       "0     160.8332      9167.0      128.352     9168.25       84.717     9175.75   \n",
       "1     160.8332      9167.0      128.352     9168.25       84.717     9175.75   \n",
       "\n",
       "   asks4amount  asks5price  asks5amount  asks6price  asks6amount  asks7price  \\\n",
       "0      82.4863      9176.5      92.5407      9178.0       7.5576     9187.25   \n",
       "1      82.4863      9176.5      92.5407      9178.0       7.5576     9187.25   \n",
       "\n",
       "   asks7amount  asks8price  asks8amount  asks9price  asks9amount  bids0price  \\\n",
       "0       8.7736      9190.0      82.7471     9196.25       8.2636     9157.75   \n",
       "1       8.7736      9190.0      82.7471     9196.25       8.2636     9157.75   \n",
       "\n",
       "   bids0amount  bids1price  bids1amount  bids2price  bids2amount  bids3price  \\\n",
       "0      148.268      9156.5     182.1977      9150.0      45.9974     9142.25   \n",
       "1      149.568      9156.5     182.1977      9150.0      45.9974     9142.25   \n",
       "\n",
       "   bids3amount  bids4price  bids4amount  bids5price  bids5amount  bids6price  \\\n",
       "0      63.9962      9134.5      83.8423      9134.0      56.2644      9123.5   \n",
       "1      63.9962      9134.5      83.8423      9134.0      56.2644      9123.5   \n",
       "\n",
       "   bids6amount  bids7price  bids7amount  bids8price  bids8amount  bids9price  \\\n",
       "0       8.4158     9122.75      54.9485      9116.5       8.4933      9116.0   \n",
       "1       8.4158     9122.75      54.9485      9116.5       8.4933      9116.0   \n",
       "\n",
       "   bids9amount  \n",
       "0      65.2164  \n",
       "1      65.2164  "
      ]
     },
     "execution_count": 5,
     "metadata": {},
     "output_type": "execute_result"
    }
   ],
   "source": [
    "df.limit(2).toPandas()"
   ]
  },
  {
   "cell_type": "code",
   "execution_count": 6,
   "metadata": {},
   "outputs": [],
   "source": [
    "def bbo_imbalance(bid_size_0, ask_size_0):\n",
    "    return bid_size_0 / (bid_size_0 + ask_size_0)"
   ]
  },
  {
   "cell_type": "code",
   "execution_count": 7,
   "metadata": {},
   "outputs": [],
   "source": [
    "def book_imbalance(df):\n",
    "    bid_cols = [x for x in df.columns if 'bids' in x and 'amount' in x]\n",
    "    ask_cols = [x for x in df.columns if 'ask' in x and 'amount' in x]\n",
    "    imb = sum(df[col] for col in df.columns if col in bid_cols) / \\\n",
    "                (sum(df[col] for col in df.columns if col in bid_cols) + sum(df[col] for col in df.columns if col in ask_cols))\n",
    "    return imb"
   ]
  },
  {
   "cell_type": "code",
   "execution_count": 8,
   "metadata": {},
   "outputs": [],
   "source": [
    "df = df.withColumn('spread', df.asks0price - df.bids0price) \\\n",
    "        .withColumn('midprice', (df.asks0price + df.bids0price)/2) \\\n",
    "        .withColumn('bbo_imbalance', bbo_imbalance(df.bids0amount, df.asks0amount)) \\\n",
    "        .withColumn('book_imbalance', book_imbalance(df)) \\\n",
    "        .withColumn(\"year\", year(df.timestamp)) \\\n",
    "        .withColumn(\"month\", month(df.timestamp)) \\\n",
    "        .withColumn(\"day\", dayofmonth(df.timestamp))\\\n",
    "        .withColumn(\"exchange\", lit(exchange))"
   ]
  },
  {
   "cell_type": "code",
   "execution_count": 9,
   "metadata": {},
   "outputs": [],
   "source": [
    "spark.conf.set(\"spark.sql.sources.partitionOverwriteMode\",\"dynamic\")\n",
    "df.write.mode('overwrite').partitionBy('exchange', 'symbol', 'year', 'month', 'day').parquet(\"data/02_intermediate/lob\")"
   ]
  },
  {
   "cell_type": "code",
   "execution_count": 10,
   "metadata": {},
   "outputs": [
    {
     "data": {
      "text/plain": [
       "875178"
      ]
     },
     "execution_count": 10,
     "metadata": {},
     "output_type": "execute_result"
    }
   ],
   "source": [
    "spark.read.load('data/02_intermediate/lob/').count()"
   ]
  },
  {
   "cell_type": "code",
   "execution_count": null,
   "metadata": {},
   "outputs": [],
   "source": []
  }
 ],
 "metadata": {
  "kernelspec": {
   "display_name": "Python 3",
   "language": "python",
   "name": "python3"
  },
  "language_info": {
   "codemirror_mode": {
    "name": "ipython",
    "version": 3
   },
   "file_extension": ".py",
   "mimetype": "text/x-python",
   "name": "python",
   "nbconvert_exporter": "python",
   "pygments_lexer": "ipython3",
   "version": "3.7.4"
  }
 },
 "nbformat": 4,
 "nbformat_minor": 4
}
